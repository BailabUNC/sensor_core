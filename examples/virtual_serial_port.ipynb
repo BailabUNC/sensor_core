{
 "cells": [
  {
   "cell_type": "code",
   "execution_count": 1,
   "id": "1170674b-b88f-4cfe-a91f-64b2080d87f0",
   "metadata": {},
   "outputs": [
    {
     "data": {
      "application/vnd.jupyter.widget-view+json": {
       "model_id": "b2e4a97886e84e76818ed1beae5f366a",
       "version_major": 2,
       "version_minor": 0
      },
      "text/plain": [
       "Image(value=b'\\x89PNG\\r\\n\\x1a\\n\\x00\\x00\\x00\\rIHDR\\x00\\x00\\x01,\\x00\\x00\\x007\\x08\\x06\\x00\\x00\\x00\\xb6\\x1bw\\x99\\x…"
      ]
     },
     "metadata": {},
     "output_type": "display_data"
    },
    {
     "data": {
      "text/html": [
       "<b>Available devices:</b><table><tr><th>Valid</th><th>Device</th><th>Type</th><th>Backend</th><th>Driver</th></tr><tr title=\"This adapter can be used with fastplotlib\"><td>✅ (default) </td><td>Radeon 8060S Graphics (RADV GFX1151)</td><td>IntegratedGPU</td><td>Vulkan</td><td>Mesa 25.2.3-arch1.2</td></tr><tr title=\"This adapter cannot be used with fastplotlib\"><td>❌</td><td>Radeon 8060S Graphics (radeonsi, gfx1151, LLVM 20.1.8, DRM 3.61, 6.12.48-1-MANJARO)</td><td>Unknown</td><td>OpenGL</td><td>4.6 (Core Profile) Mesa 25.2.3-arch1.2</td></tr></table>"
      ],
      "text/plain": [
       "<IPython.core.display.HTML object>"
      ]
     },
     "metadata": {},
     "output_type": "display_data"
    }
   ],
   "source": [
    "from sensor_core import SensorManager\n",
    "from sensor_core import strg_manager\n",
    "from sensor_core import ser_manager\n",
    "import numpy as np"
   ]
  },
  {
   "cell_type": "code",
   "execution_count": 2,
   "id": "764fa50e-c8a5-43d1-995e-19f8c60c22f9",
   "metadata": {},
   "outputs": [],
   "source": [
    "# USER DEFINED PARAMS\n",
    "ser_channel_key = [\"red\", \"infrared\", \"violet\"]                    # Names of serial channels\n",
    "plot_channel_key = [[\"red\", \"infrared\", \"violet\"]]                 # Names and gridplot arrangement of plot channels\n",
    "commport = None                                                    # Name of comm port\n",
    "baudrate = None                                                    # bits/second\n",
    "window_size = 1000                                                 # Number of points to acquire before updating plot"
   ]
  },
  {
   "cell_type": "code",
   "execution_count": 3,
   "id": "c52227d7-190f-4e32-bd93-c11bd2df6ab7",
   "metadata": {},
   "outputs": [],
   "source": [
    "# Custom Serial Acquisition Function\n",
    "def acquire_data(ser, window_size, num_channel):\n",
    "    \"\"\" serial acquisition function handler. All parameters are internally generated\n",
    "    Must include the following parameters:\n",
    "    :param ser: serial port\n",
    "    :param window_size: number of frames to capture before passing to shared memory object. Default 1\n",
    "    :param num_channel: number of channels to capture. \n",
    "    \"\"\"\n",
    "    channel_data = np.random.rand(num_channel, window_size)\n",
    "    return channel_data"
   ]
  },
  {
   "cell_type": "code",
   "execution_count": 4,
   "id": "da9c1f79-a817-4d06-9107-f316fb7b3d4d",
   "metadata": {},
   "outputs": [],
   "source": [
    "# Instantiate Sensor Manager class\n",
    "sm = SensorManager(ser_channel_key=ser_channel_key,\n",
    "                   plot_channel_key=plot_channel_key,\n",
    "                   commport=commport, \n",
    "                   baudrate=baudrate, \n",
    "                   window_size = window_size,\n",
    "                   num_points=100,\n",
    "                   plot_target_fps=30.0,\n",
    "                   plot_catchup_base_max=4096,\n",
    "                   plot_catchup_boost=2.5)"
   ]
  },
  {
   "cell_type": "code",
   "execution_count": 5,
   "id": "fa93006d-1d9f-481c-90d9-003b8e8e5fe4",
   "metadata": {},
   "outputs": [
    {
     "data": {
      "application/vnd.jupyter.widget-view+json": {
       "model_id": "c27a51a8b7d84648a49c7db686ba752b",
       "version_major": 2,
       "version_minor": 0
      },
      "text/plain": [
       "RFBOutputContext()"
      ]
     },
     "metadata": {},
     "output_type": "display_data"
    },
    {
     "name": "stderr",
     "output_type": "stream",
     "text": [
      "/home/aju/mabos/lib/python3.13/site-packages/fastplotlib/graphics/features/_base.py:18: UserWarning: casting float64 array to float32\n",
      "  warn(f\"casting {array.dtype} array to float32\")\n"
     ]
    }
   ],
   "source": [
    "# Create 'update process' to handle acquired data\n",
    "update_process = sm.update_data_process(save_data=False, \n",
    "                            filepath='./serial_db.sqlite3',\n",
    "                            virtual_ser_port = True,\n",
    "                            func=acquire_data)\n",
    "# Create 'plot process' to handle plotting. Returns plot object as well\n",
    "plot_process, plot = sm.setup_plotting_process()"
   ]
  },
  {
   "cell_type": "code",
   "execution_count": 6,
   "id": "7e25ebce-6c9c-48a8-9fc6-352019cdec3a",
   "metadata": {},
   "outputs": [],
   "source": [
    "# Start update process, start plotting process\n",
    "## Recommended to use in-built start_process function to avoid Windows OS issues\n",
    "sm.start_process(update_process)\n",
    "sm.start_process(plot_process)"
   ]
  },
  {
   "cell_type": "code",
   "execution_count": 7,
   "id": "ce4859c8-692b-4797-8378-a5e6edac8a6a",
   "metadata": {},
   "outputs": [
    {
     "data": {
      "application/vnd.jupyter.widget-view+json": {
       "model_id": "9fffda4297134717a05d35c6ff87a4c8",
       "version_major": 2,
       "version_minor": 0
      },
      "text/html": [
       "<div class='snapshot-9fffda4297134717a05d35c6ff87a4c8' style='position:relative;'><img src='data:image/png;base64,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' style='width:500.0px;height:300.0px;' /><div style='position: absolute; top:0; left:0; padding:1px 3px; background: #777; color:#fff; font-size: 90%; font-family:sans-serif; '>snapshot</div></div>"
      ],
      "text/plain": [
       "JupyterRenderCanvas(css_height='300.0px', css_width='500.0px')"
      ]
     },
     "execution_count": 7,
     "metadata": {},
     "output_type": "execute_result"
    }
   ],
   "source": [
    "# Show plot\n",
    "plot.show()"
   ]
  },
  {
   "cell_type": "code",
   "execution_count": 36,
   "id": "90ee4f95-4387-45c3-9e67-ea48cd8633e3",
   "metadata": {},
   "outputs": [
    {
     "data": {
      "text/plain": [
       "{'writer': {'init': True,\n",
       "  'producer_fps': 60207.79,\n",
       "  'consumer_fps': 0.0,\n",
       "  'publish_avg_ms': 0.001,\n",
       "  'publish_p95_ms': 0.002,\n",
       "  'plot_tick_avg_ms': 0.0,\n",
       "  'plot_tick_p95_ms': 0.0,\n",
       "  'gpu_upload_avg_ms': 0.0,\n",
       "  'gpu_upload_p95_ms': 0.0,\n",
       "  'acquire_avg_ms': 0.012,\n",
       "  'acquire_p95_ms': 0.012,\n",
       "  'write_idx': 766881,\n",
       "  'read_idx': 0,\n",
       "  'frames_lag': 0,\n",
       "  'drops_est': 0},\n",
       " 'plot': {'init': True,\n",
       "  'producer_fps': 0.0,\n",
       "  'consumer_fps': 23.46,\n",
       "  'publish_avg_ms': 0.0,\n",
       "  'publish_p95_ms': 0.0,\n",
       "  'plot_tick_avg_ms': 4.078,\n",
       "  'plot_tick_p95_ms': 6.195,\n",
       "  'gpu_upload_avg_ms': 0.065,\n",
       "  'gpu_upload_p95_ms': 0.078,\n",
       "  'acquire_avg_ms': 0.0,\n",
       "  'acquire_p95_ms': 0.0,\n",
       "  'write_idx': 779435,\n",
       "  'read_idx': 776909,\n",
       "  'frames_lag': 2526,\n",
       "  'drops_est': 96454}}"
      ]
     },
     "execution_count": 36,
     "metadata": {},
     "output_type": "execute_result"
    }
   ],
   "source": [
    "# Get metrics snapshot\n",
    "sm.get_metrics()"
   ]
  },
  {
   "cell_type": "code",
   "execution_count": null,
   "id": "f4bb1e88-6186-44a7-98af-8f99304c97b5",
   "metadata": {},
   "outputs": [],
   "source": []
  }
 ],
 "metadata": {
  "kernelspec": {
   "display_name": "Python 3 (ipykernel)",
   "language": "python",
   "name": "python3"
  },
  "language_info": {
   "codemirror_mode": {
    "name": "ipython",
    "version": 3
   },
   "file_extension": ".py",
   "mimetype": "text/x-python",
   "name": "python",
   "nbconvert_exporter": "python",
   "pygments_lexer": "ipython3",
   "version": "3.13.7"
  }
 },
 "nbformat": 4,
 "nbformat_minor": 5
}
