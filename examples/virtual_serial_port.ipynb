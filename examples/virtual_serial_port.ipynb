{
 "cells": [
  {
   "cell_type": "code",
   "execution_count": null,
   "id": "1170674b-b88f-4cfe-a91f-64b2080d87f0",
   "metadata": {},
   "outputs": [],
   "source": [
    "from sensor_core import SensorManager\n",
    "from sensor_core import strg_manager\n",
    "from sensor_core import ser_manager\n",
    "import numpy as np"
   ]
  },
  {
   "cell_type": "code",
   "execution_count": null,
   "id": "764fa50e-c8a5-43d1-995e-19f8c60c22f9",
   "metadata": {},
   "outputs": [],
   "source": [
    "# USER DEFINED PARAMS\n",
    "ser_channel_key = [\"red\", \"infrared\", \"violet\"]                    # Names of serial channels\n",
    "plot_channel_key = [[\"red\", \"infrared\", \"violet\"]]                 # Names and gridplot arrangement of plot channels\n",
    "commport = None                                                    # Name of comm port\n",
    "baudrate = None                                                    # bits/second\n",
    "window_size = 1                                                    # Number of points to acquire before updating plot"
   ]
  },
  {
   "cell_type": "code",
   "execution_count": null,
   "id": "c52227d7-190f-4e32-bd93-c11bd2df6ab7",
   "metadata": {},
   "outputs": [],
   "source": [
    "# Custom Serial Acquisition Function\n",
    "def acquire_data(ser, window_size, num_channel):\n",
    "    \"\"\" serial acquisition function handler. All parameters are internally generated\n",
    "    Must include the following parameters:\n",
    "    :param ser: serial port\n",
    "    :param window_size: number of frames to capture before passing to shared memory object. Default 1\n",
    "    :param num_channel: number of channels to capture. \n",
    "    \"\"\"\n",
    "    channel_data = np.random.rand(num_channel, window_size)\n",
    "    return channel_data"
   ]
  },
  {
   "cell_type": "code",
   "execution_count": null,
   "id": "da9c1f79-a817-4d06-9107-f316fb7b3d4d",
   "metadata": {},
   "outputs": [],
   "source": [
    "# Instantiate Sensor Manager class\n",
    "sm = SensorManager(ser_channel_key=ser_channel_key,\n",
    "                   plot_channel_key=plot_channel_key,\n",
    "                   commport=commport, \n",
    "                   baudrate=baudrate, \n",
    "                   window_size = window_size,\n",
    "                   num_points=100)"
   ]
  },
  {
   "cell_type": "code",
   "execution_count": null,
   "id": "fa93006d-1d9f-481c-90d9-003b8e8e5fe4",
   "metadata": {},
   "outputs": [],
   "source": [
    "# Create 'update process' to handle acquired data\n",
    "update_process = sm.update_data_process(save_data=False, \n",
    "                            filepath='./serial_db.sqlite3',\n",
    "                            virtual_ser_port = True,\n",
    "                            func=acquire_data)\n",
    "# Create 'plot process' to handle plotting. Returns plot object as well\n",
    "plot_process, plot = sm.setup_plotting_process()"
   ]
  },
  {
   "cell_type": "code",
   "execution_count": null,
   "id": "7e25ebce-6c9c-48a8-9fc6-352019cdec3a",
   "metadata": {},
   "outputs": [],
   "source": [
    "# Start update process, start plotting process\n",
    "## Recommended to use in-built start_process function to avoid Windows OS issues\n",
    "sm.start_process(update_process)\n",
    "sm.start_process(plot_process)"
   ]
  },
  {
   "cell_type": "code",
   "execution_count": null,
   "id": "ce4859c8-692b-4797-8378-a5e6edac8a6a",
   "metadata": {},
   "outputs": [],
   "source": [
    "# Show plot\n",
    "plot.show()"
   ]
  },
  {
   "cell_type": "code",
   "execution_count": null,
   "id": "90ee4f95-4387-45c3-9e67-ea48cd8633e3",
   "metadata": {},
   "outputs": [],
   "source": [
    "# Get metrics snapshot\n",
    "sm.get_metrics()"
   ]
  },
  {
   "cell_type": "code",
   "execution_count": null,
   "id": "f4bb1e88-6186-44a7-98af-8f99304c97b5",
   "metadata": {},
   "outputs": [],
   "source": []
  }
 ],
 "metadata": {
  "kernelspec": {
   "display_name": "Python 3 (ipykernel)",
   "language": "python",
   "name": "python3"
  },
  "language_info": {
   "codemirror_mode": {
    "name": "ipython",
    "version": 3
   },
   "file_extension": ".py",
   "mimetype": "text/x-python",
   "name": "python",
   "nbconvert_exporter": "python",
   "pygments_lexer": "ipython3",
   "version": "3.13.7"
  }
 },
 "nbformat": 4,
 "nbformat_minor": 5
}
